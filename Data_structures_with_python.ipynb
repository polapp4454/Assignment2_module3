{
  "nbformat": 4,
  "nbformat_minor": 0,
  "metadata": {
    "colab": {
      "name": "Data structures with python",
      "provenance": [],
      "authorship_tag": "ABX9TyPddABrMLZCSoVqvl6HE/oF",
      "include_colab_link": true
    },
    "kernelspec": {
      "name": "python3",
      "display_name": "Python 3"
    }
  },
  "cells": [
    {
      "cell_type": "markdown",
      "metadata": {
        "id": "view-in-github",
        "colab_type": "text"
      },
      "source": [
        "<a href=\"https://colab.research.google.com/github/polapp4454/Assignment2_module3/blob/master/Data_structures_with_python.ipynb\" target=\"_parent\"><img src=\"https://colab.research.google.com/assets/colab-badge.svg\" alt=\"Open In Colab\"/></a>"
      ]
    },
    {
      "cell_type": "code",
      "metadata": {
        "id": "LZwYUDBbBKFu"
      },
      "source": [
        ""
      ],
      "execution_count": null,
      "outputs": []
    },
    {
      "cell_type": "markdown",
      "metadata": {
        "id": "a4dmvuknBO6a"
      },
      "source": [
        ""
      ]
    },
    {
      "cell_type": "code",
      "metadata": {
        "id": "CXpFtJLmBQX4"
      },
      "source": [
        ""
      ],
      "execution_count": null,
      "outputs": []
    },
    {
      "cell_type": "markdown",
      "metadata": {
        "id": "TwOYcbvrBY8P"
      },
      "source": [
        " Find minimum of three numbers"
      ]
    },
    {
      "cell_type": "code",
      "metadata": {
        "id": "m2-4yHRmBfl9",
        "outputId": "18ac4d78-d99e-427f-d7f9-10d6592f940f",
        "colab": {
          "base_uri": "https://localhost:8080/",
          "height": 34
        }
      },
      "source": [
        " \n",
        "# minimum among three numbers\n",
        "a, b, c = 16, 5,7\n",
        " \n",
        "if(a < b and a < c): \n",
        " \n",
        "    print(\" ais the minimum\") \n",
        " \n",
        "elif(b < a and b < c): \n",
        " \n",
        "    print(\" b is the minimum\") \n",
        " \n",
        "else: \n",
        " \n",
        "    print(\" c is the minimum\")"
      ],
      "execution_count": 1,
      "outputs": [
        {
          "output_type": "stream",
          "text": [
            " b is the minimum\n"
          ],
          "name": "stdout"
        }
      ]
    },
    {
      "cell_type": "markdown",
      "metadata": {
        "id": "jDC3XdECB-LP"
      },
      "source": [
        " find the GCD and LCM of two/three numbers."
      ]
    },
    {
      "cell_type": "code",
      "metadata": {
        "id": "ClRZIQ4FCBO1",
        "outputId": "8197bbbb-5e4b-47c4-9045-51544f2a9955",
        "colab": {
          "base_uri": "https://localhost:8080/",
          "height": 51
        }
      },
      "source": [
        " \n",
        "# GCD and LCM of two numbers\n",
        "def gcd(a,b): \n",
        " \n",
        "    if a == 0: \n",
        " \n",
        "        return b \n",
        " \n",
        "    return gcd(b % a, a) \n",
        "def lcm(a,b): \n",
        " \n",
        "    return (a*b) / gcd(a,b) \n",
        "a = 25\n",
        "b = 40\n",
        "print('LCM of', a, 'and', b, 'is', lcm(a, b))\n",
        "print('GCD of', a, 'and', b, 'is', gcd(a, b))"
      ],
      "execution_count": 2,
      "outputs": [
        {
          "output_type": "stream",
          "text": [
            "LCM of 25 and 40 is 200.0\n",
            "GCD of 25 and 40 is 5\n"
          ],
          "name": "stdout"
        }
      ]
    },
    {
      "cell_type": "markdown",
      "metadata": {
        "id": "-sc6p4mBCVcW"
      },
      "source": [
        " 3.check whether given number is prime or not."
      ]
    },
    {
      "cell_type": "code",
      "metadata": {
        "id": "b1k3xiV9DqO4",
        "outputId": "26273707-da13-4680-e43d-8265118700af",
        "colab": {
          "base_uri": "https://localhost:8080/",
          "height": 51
        }
      },
      "source": [
        " Number = int(input(\" Enter any Number: \"))\n",
        "Sum = 0\n",
        "for i in range(1, Number):\n",
        "    if(Number % i == 0):\n",
        "        Sum = Sum + i\n",
        "if (Sum == Number):\n",
        "    print(\" %d is a Perfect Number\" %Number)\n",
        "else:\n",
        "    print(\" %d is not a Perfect Number\" %Number)"
      ],
      "execution_count": 6,
      "outputs": [
        {
          "output_type": "stream",
          "text": [
            " Enter any Number: 5\n",
            " 5 is not a Perfect Number\n"
          ],
          "name": "stdout"
        }
      ]
    },
    {
      "cell_type": "markdown",
      "metadata": {
        "id": "Q7hxOJfUE6MJ"
      },
      "source": [
        " 4.print twin primes upto specified limit"
      ]
    },
    {
      "cell_type": "code",
      "metadata": {
        "id": "KaNzuIFbE8bb",
        "outputId": "730a0e8e-ff9f-4269-c362-3484d40d2695",
        "colab": {
          "base_uri": "https://localhost:8080/",
          "height": 86
        }
      },
      "source": [
        " def is_prime(n):\n",
        "   for i in range(2, n):\n",
        "      if n % i == 0:\n",
        "         return False\n",
        "   return True\n",
        " \n",
        "def generate_twins(start, end):\n",
        "   for i in range(start, end):\n",
        "      j = i + 2\n",
        "      if(is_prime(i) and is_prime(j)):\n",
        "         print(\"{:d} and {:d}\".format(i, j))\n",
        " \n",
        "generate_twins(20, 100)"
      ],
      "execution_count": 7,
      "outputs": [
        {
          "output_type": "stream",
          "text": [
            "29 and 31\n",
            "41 and 43\n",
            "59 and 61\n",
            "71 and 73\n"
          ],
          "name": "stdout"
        }
      ]
    },
    {
      "cell_type": "markdown",
      "metadata": {
        "id": "gH8B699UFJZz"
      },
      "source": [
        " 5.print prime numbers up to specified limited"
      ]
    },
    {
      "cell_type": "code",
      "metadata": {
        "id": "2I33FGsoFUyI",
        "outputId": "28907039-b5f9-4652-ae12-0396053befe8",
        "colab": {
          "base_uri": "https://localhost:8080/",
          "height": 314
        }
      },
      "source": [
        " \n",
        "lower = 30\n",
        "upper = 100\n",
        " \n",
        "print(\"Prime numbers between\", lower, \"and\", upper, \"are:\")\n",
        " \n",
        "for num in range(lower, upper + 1):\n",
        "   if num > 1:\n",
        "       for i in range(2, num):\n",
        "           if (num % i) == 0:\n",
        "               break\n",
        "       else:\n",
        "           print(num)"
      ],
      "execution_count": 8,
      "outputs": [
        {
          "output_type": "stream",
          "text": [
            "Prime numbers between 30 and 100 are:\n",
            "31\n",
            "37\n",
            "41\n",
            "43\n",
            "47\n",
            "53\n",
            "59\n",
            "61\n",
            "67\n",
            "71\n",
            "73\n",
            "79\n",
            "83\n",
            "89\n",
            "97\n"
          ],
          "name": "stdout"
        }
      ]
    },
    {
      "cell_type": "markdown",
      "metadata": {
        "id": "wzLfT2xwFy4Z"
      },
      "source": [
        " 6.find the sum of digits of a number is Armstrong number or not."
      ]
    },
    {
      "cell_type": "code",
      "metadata": {
        "id": "E3vLrGTpF7_T",
        "outputId": "f2f993a1-d390-4a86-ae1c-7876cc3b9629",
        "colab": {
          "base_uri": "https://localhost:8080/",
          "height": 51
        }
      },
      "source": [
        " num = int(input(\"Enter a number: \"))  \n",
        "sum = 0  \n",
        "temp = num  \n",
        "  \n",
        "while temp > 0:  \n",
        "   digit = temp % 10  \n",
        "   sum += digit ** 3  \n",
        "   temp //= 10  \n",
        "  \n",
        "if num == sum:  \n",
        "   print(num,\"is an Armstrong number\")  \n",
        "else:  \n",
        "   print(num,\"is not an Armstrong \")"
      ],
      "execution_count": 9,
      "outputs": [
        {
          "output_type": "stream",
          "text": [
            "Enter a number: 15\n",
            "15 is not an Armstrong \n"
          ],
          "name": "stdout"
        }
      ]
    },
    {
      "cell_type": "markdown",
      "metadata": {
        "id": "mXNULsGSGMT6"
      },
      "source": [
        " 7.Swapping of two numbers"
      ]
    },
    {
      "cell_type": "code",
      "metadata": {
        "id": "cHx5f1s4GNut",
        "outputId": "a70ceb75-e3c0-4ee6-9531-77c20f3d49b0",
        "colab": {
          "base_uri": "https://localhost:8080/",
          "height": 106
        }
      },
      "source": [
        " x = input('Enter value of x: ')\n",
        "y = input('Enter value of y: ')\n",
        "# create a temporary variable and swap the values\n",
        "temp = x\n",
        "x = y\n",
        "y = temp\n",
        " \n",
        "print('The value of x after swapping: {}'.format(x))\n",
        "print('The value of y after swapping: {}'.format(y))"
      ],
      "execution_count": 10,
      "outputs": [
        {
          "output_type": "stream",
          "text": [
            "Enter value of x: 5\n",
            "Enter value of y: 15\n",
            "The value of x after swapping: 15\n",
            "The value of y after swapping: 5\n"
          ],
          "name": "stdout"
        }
      ]
    },
    {
      "cell_type": "markdown",
      "metadata": {
        "id": "qH82xnRCGpPK"
      },
      "source": [
        " 8.perfrom all five arithmetic operator."
      ]
    },
    {
      "cell_type": "code",
      "metadata": {
        "id": "_mJslSRJG0hd",
        "outputId": "8c4723ac-3b1f-462f-e1d5-4fe723930973",
        "colab": {
          "base_uri": "https://localhost:8080/",
          "height": 155
        }
      },
      "source": [
        " x = float(input(\"enter a num : \"))\n",
        "y = float(input (\"enter a num : \"))\n",
        " \n",
        "print('x + y =',x+y)\n",
        " \n",
        " \n",
        "print('x - y =',x-y)\n",
        " \n",
        " \n",
        "print('x * y =',x*y)\n",
        " \n",
        " \n",
        "print('x / y =',x/y)\n",
        " \n",
        " \n",
        "print('x // y =',x//y)\n",
        " \n",
        "print('x ** y =',x**y)"
      ],
      "execution_count": 11,
      "outputs": [
        {
          "output_type": "stream",
          "text": [
            "enter a num : 25\n",
            "enter a num : 50\n",
            "x + y = 75.0\n",
            "x - y = -25.0\n",
            "x * y = 1250.0\n",
            "x / y = 0.5\n",
            "x // y = 0.0\n",
            "x ** y = 7.888609052210118e+69\n"
          ],
          "name": "stdout"
        }
      ]
    }
  ]
}